{
  "nbformat": 4,
  "nbformat_minor": 0,
  "metadata": {
    "colab": {
      "provenance": [],
      "include_colab_link": true
    },
    "kernelspec": {
      "name": "python3",
      "display_name": "Python 3"
    },
    "language_info": {
      "name": "python"
    }
  },
  "cells": [
    {
      "cell_type": "markdown",
      "metadata": {
        "id": "view-in-github",
        "colab_type": "text"
      },
      "source": [
        "<a href=\"https://colab.research.google.com/github/TaewookHam/BigData_Analysis/blob/master/%EB%B6%80%EB%8F%99%EC%82%B0_%EC%8B%9C%EC%84%B8_%EC%98%88%EC%B8%A1.ipynb\" target=\"_parent\"><img src=\"https://colab.research.google.com/assets/colab-badge.svg\" alt=\"Open In Colab\"/></a>"
      ]
    },
    {
      "cell_type": "code",
      "execution_count": 14,
      "metadata": {
        "id": "ycpLMJggiSR5",
        "colab": {
          "base_uri": "https://localhost:8080/"
        },
        "outputId": "b770c49f-8a70-450f-ca39-cdf14ed44058"
      },
      "outputs": [
        {
          "output_type": "stream",
          "name": "stdout",
          "text": [
            "b'<?xml version=\"1.0\" encoding=\"UTF-8\" standalone=\"yes\"?><response><header><resultCode>99</resultCode><resultMsg>SERVICE KEY IS NOT REGISTERED ERROR.</resultMsg></header></response>'\n"
          ]
        }
      ],
      "source": [
        "import requests\n",
        "\n",
        "encoding = \"F8EwGhkLoF1hRyW%2By%2F09KMB3j5PrwOXjCkHFgznTPI4Azgy16CwCW1G%2B0n0hzUHGHIyX7ux%2FVIwUu%2FvvPZV7pQ%3D%3D\"\n",
        "decoding = \"F8EwGhkLoF1hRyW+y/09KMB3j5PrwOXjCkHFgznTPI4Azgy16CwCW1G+0n0hzUHGHIyX7ux/VIwUu/vvPZV7pQ==\"\n",
        "\n",
        "url = 'http://openapi.molit.go.kr/OpenAPI_ToolInstallPackage/service/rest/RTMSOBJSvc/getRTMSDataSvcNrgTrade'\n",
        "params ={'serviceKey' : encoding, 'LAWD_CD' : '11110', 'DEAL_YMD' : '201512' }\n",
        "\n",
        "response = requests.get(url, params=params)\n",
        "print(response.content)"
      ]
    },
    {
      "cell_type": "code",
      "source": [
        "import pandas as pd\n",
        "import xml.etree.ElementTree as ET"
      ],
      "metadata": {
        "id": "HyD7GZ_rcQCa"
      },
      "execution_count": null,
      "outputs": []
    },
    {
      "cell_type": "code",
      "source": [
        "def get_csv_from_xml(url):\n",
        "    xml_data = requests.get(url).text\n",
        "    tree = ET.ElementTree(ET.fromstring(xml_data))\n",
        "    root = tree.getroot()\n",
        "\n",
        "    data = []\n",
        "\n",
        "    for item in root.findall('.//item'):\n",
        "        item_data = {}\n",
        "        for element in item:\n",
        "            item_data[element.tag] = element.text.strip()\n",
        "        data.append(item_data)\n",
        "\n",
        "    df = pd.DataFrame(data)\n",
        "\n",
        "    df.to_csv('out.csv')\n",
        "\n",
        "    return 'out.csv'"
      ],
      "metadata": {
        "id": "C_WGX7Wo7QU3"
      },
      "execution_count": null,
      "outputs": []
    },
    {
      "cell_type": "code",
      "source": [],
      "metadata": {
        "id": "E37eISWJ7QqM"
      },
      "execution_count": null,
      "outputs": []
    },
    {
      "cell_type": "code",
      "source": [],
      "metadata": {
        "id": "LP67fAnY7Qte"
      },
      "execution_count": null,
      "outputs": []
    }
  ]
}